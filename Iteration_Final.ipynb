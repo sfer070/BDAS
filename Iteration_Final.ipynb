{
 "cells": [
  {
   "cell_type": "code",
   "execution_count": 1,
   "metadata": {},
   "outputs": [],
   "source": [
    "# Section must be included at the beginning of each new notebook. \n",
    "import findspark\n",
    "findspark.init('/home/ubuntu/spark-2.1.1-bin-hadoop2.7')\n",
    "import pyspark\n",
    "from pyspark.sql import SparkSession\n",
    "spark = SparkSession.builder.appName('basics').getOrCreate()"
   ]
  },
  {
   "cell_type": "code",
   "execution_count": 2,
   "metadata": {},
   "outputs": [],
   "source": [
    "#Importing pandas\n",
    "import pandas as pd\n",
    "#Importing matplot pyplot library as plt\n",
    "import matplotlib.pyplot as plt\n",
    "#Enabling graphs\n",
    "%matplotlib inline"
   ]
  },
  {
   "cell_type": "code",
   "execution_count": 3,
   "metadata": {},
   "outputs": [],
   "source": [
    "#Calling data set AccidentalDrugRelatedDeaths.csv\n",
    "drug = pd.read_csv('Datasets/AccidentalDrugRelatedDeathsFinal.csv')"
   ]
  },
  {
   "cell_type": "code",
   "execution_count": 4,
   "metadata": {},
   "outputs": [
    {
     "data": {
      "text/plain": [
       "pandas.core.frame.DataFrame"
      ]
     },
     "execution_count": 4,
     "metadata": {},
     "output_type": "execute_result"
    }
   ],
   "source": [
    "#Looking the type of drug\n",
    "type(drug)"
   ]
  },
  {
   "cell_type": "code",
   "execution_count": 5,
   "metadata": {},
   "outputs": [
    {
     "data": {
      "text/html": [
       "<div>\n",
       "<style scoped>\n",
       "    .dataframe tbody tr th:only-of-type {\n",
       "        vertical-align: middle;\n",
       "    }\n",
       "\n",
       "    .dataframe tbody tr th {\n",
       "        vertical-align: top;\n",
       "    }\n",
       "\n",
       "    .dataframe thead th {\n",
       "        text-align: right;\n",
       "    }\n",
       "</style>\n",
       "<table border=\"1\" class=\"dataframe\">\n",
       "  <thead>\n",
       "    <tr style=\"text-align: right;\">\n",
       "      <th></th>\n",
       "      <th>CaseNumber</th>\n",
       "      <th>Date</th>\n",
       "      <th>Year</th>\n",
       "      <th>Gender</th>\n",
       "      <th>Race</th>\n",
       "      <th>Age</th>\n",
       "      <th>age_group</th>\n",
       "      <th>Residence City</th>\n",
       "      <th>Residence State</th>\n",
       "      <th>Residence County</th>\n",
       "      <th>...</th>\n",
       "      <th>H1drocodone</th>\n",
       "      <th>Benzodiazepine</th>\n",
       "      <th>Methadone</th>\n",
       "      <th>Amphet</th>\n",
       "      <th>Tramad</th>\n",
       "      <th>Morphine (not heroin)</th>\n",
       "      <th>Other</th>\n",
       "      <th>MannerofDeath</th>\n",
       "      <th>AmendedMannerofDeath</th>\n",
       "      <th>DeathLoc</th>\n",
       "    </tr>\n",
       "  </thead>\n",
       "  <tbody>\n",
       "    <tr>\n",
       "      <th>0</th>\n",
       "      <td>13-16336</td>\n",
       "      <td>11/9/2013</td>\n",
       "      <td>2013</td>\n",
       "      <td>Female</td>\n",
       "      <td>White</td>\n",
       "      <td>53</td>\n",
       "      <td>Seniors</td>\n",
       "      <td>GROTON</td>\n",
       "      <td>NaN</td>\n",
       "      <td>NEW LONDON</td>\n",
       "      <td>...</td>\n",
       "      <td>0</td>\n",
       "      <td>1</td>\n",
       "      <td>0</td>\n",
       "      <td>0</td>\n",
       "      <td>0</td>\n",
       "      <td>0</td>\n",
       "      <td>NaN</td>\n",
       "      <td>Accident</td>\n",
       "      <td>NaN</td>\n",
       "      <td>GROTON, CT\\n(41.343693, -72.07877)</td>\n",
       "    </tr>\n",
       "    <tr>\n",
       "      <th>1</th>\n",
       "      <td>12-18447</td>\n",
       "      <td>12/29/2012</td>\n",
       "      <td>2012</td>\n",
       "      <td>Male</td>\n",
       "      <td>White</td>\n",
       "      <td>30</td>\n",
       "      <td>MiddleAged</td>\n",
       "      <td>WOLCOTT</td>\n",
       "      <td>NaN</td>\n",
       "      <td>NEW HAVEN</td>\n",
       "      <td>...</td>\n",
       "      <td>0</td>\n",
       "      <td>0</td>\n",
       "      <td>0</td>\n",
       "      <td>0</td>\n",
       "      <td>0</td>\n",
       "      <td>0</td>\n",
       "      <td>NaN</td>\n",
       "      <td>Accident</td>\n",
       "      <td>NaN</td>\n",
       "      <td>WATERBURY, CT\\n(41.554261, -73.043069)</td>\n",
       "    </tr>\n",
       "    <tr>\n",
       "      <th>2</th>\n",
       "      <td>14-2758</td>\n",
       "      <td>2/18/2014</td>\n",
       "      <td>2014</td>\n",
       "      <td>Male</td>\n",
       "      <td>White</td>\n",
       "      <td>43</td>\n",
       "      <td>MiddleAged</td>\n",
       "      <td>ENFIELD</td>\n",
       "      <td>NaN</td>\n",
       "      <td>HARTFORD</td>\n",
       "      <td>...</td>\n",
       "      <td>0</td>\n",
       "      <td>1</td>\n",
       "      <td>0</td>\n",
       "      <td>0</td>\n",
       "      <td>0</td>\n",
       "      <td>0</td>\n",
       "      <td>NaN</td>\n",
       "      <td>Accident</td>\n",
       "      <td>NaN</td>\n",
       "      <td>ENFIELD, CT\\n(41.976501, -72.591985)</td>\n",
       "    </tr>\n",
       "    <tr>\n",
       "      <th>3</th>\n",
       "      <td>14-13497</td>\n",
       "      <td>9/7/2014</td>\n",
       "      <td>2014</td>\n",
       "      <td>Female</td>\n",
       "      <td>White</td>\n",
       "      <td>24</td>\n",
       "      <td>Youth</td>\n",
       "      <td>WALLINGFORD</td>\n",
       "      <td>NaN</td>\n",
       "      <td>NEW HAVEN</td>\n",
       "      <td>...</td>\n",
       "      <td>0</td>\n",
       "      <td>0</td>\n",
       "      <td>0</td>\n",
       "      <td>0</td>\n",
       "      <td>0</td>\n",
       "      <td>0</td>\n",
       "      <td>NaN</td>\n",
       "      <td>Accident</td>\n",
       "      <td>NaN</td>\n",
       "      <td>WALLINGFORD, CT\\n(41.454408, -72.818414)</td>\n",
       "    </tr>\n",
       "    <tr>\n",
       "      <th>4</th>\n",
       "      <td>13-14421</td>\n",
       "      <td>10/4/2013</td>\n",
       "      <td>2013</td>\n",
       "      <td>Female</td>\n",
       "      <td>White</td>\n",
       "      <td>26</td>\n",
       "      <td>Youth</td>\n",
       "      <td>WEST HAVEN</td>\n",
       "      <td>NaN</td>\n",
       "      <td>NEW HAVEN</td>\n",
       "      <td>...</td>\n",
       "      <td>0</td>\n",
       "      <td>0</td>\n",
       "      <td>0</td>\n",
       "      <td>0</td>\n",
       "      <td>0</td>\n",
       "      <td>0</td>\n",
       "      <td>NaN</td>\n",
       "      <td>Accident</td>\n",
       "      <td>NaN</td>\n",
       "      <td>WEST HAVEN, CT\\n(41.272336, -72.949817)</td>\n",
       "    </tr>\n",
       "  </tbody>\n",
       "</table>\n",
       "<p>5 rows × 33 columns</p>\n",
       "</div>"
      ],
      "text/plain": [
       "  CaseNumber        Date  Year  Gender   Race  Age   age_group Residence City  \\\n",
       "0   13-16336   11/9/2013  2013  Female  White   53     Seniors         GROTON   \n",
       "1   12-18447  12/29/2012  2012    Male  White   30  MiddleAged        WOLCOTT   \n",
       "2    14-2758   2/18/2014  2014    Male  White   43  MiddleAged        ENFIELD   \n",
       "3   14-13497    9/7/2014  2014  Female  White   24       Youth    WALLINGFORD   \n",
       "4   13-14421   10/4/2013  2013  Female  White   26       Youth     WEST HAVEN   \n",
       "\n",
       "  Residence State Residence County                    ...                     \\\n",
       "0             NaN       NEW LONDON                    ...                      \n",
       "1             NaN        NEW HAVEN                    ...                      \n",
       "2             NaN         HARTFORD                    ...                      \n",
       "3             NaN        NEW HAVEN                    ...                      \n",
       "4             NaN        NEW HAVEN                    ...                      \n",
       "\n",
       "  H1drocodone Benzodiazepine Methadone Amphet Tramad Morphine (not heroin)  \\\n",
       "0           0              1         0      0      0                     0   \n",
       "1           0              0         0      0      0                     0   \n",
       "2           0              1         0      0      0                     0   \n",
       "3           0              0         0      0      0                     0   \n",
       "4           0              0         0      0      0                     0   \n",
       "\n",
       "  Other  MannerofDeath  AmendedMannerofDeath  \\\n",
       "0   NaN       Accident                   NaN   \n",
       "1   NaN       Accident                   NaN   \n",
       "2   NaN       Accident                   NaN   \n",
       "3   NaN       Accident                   NaN   \n",
       "4   NaN       Accident                   NaN   \n",
       "\n",
       "                                   DeathLoc  \n",
       "0        GROTON, CT\\n(41.343693, -72.07877)  \n",
       "1    WATERBURY, CT\\n(41.554261, -73.043069)  \n",
       "2      ENFIELD, CT\\n(41.976501, -72.591985)  \n",
       "3  WALLINGFORD, CT\\n(41.454408, -72.818414)  \n",
       "4   WEST HAVEN, CT\\n(41.272336, -72.949817)  \n",
       "\n",
       "[5 rows x 33 columns]"
      ]
     },
     "execution_count": 5,
     "metadata": {},
     "output_type": "execute_result"
    }
   ],
   "source": [
    "# Displaying the first 5 rows\n",
    "drug.head()"
   ]
  },
  {
   "cell_type": "code",
   "execution_count": 6,
   "metadata": {},
   "outputs": [
    {
     "data": {
      "text/plain": [
       "CaseNumber                object\n",
       "Date                      object\n",
       "Year                       int64\n",
       "Gender                    object\n",
       "Race                      object\n",
       "Age                        int64\n",
       "age_group                 object\n",
       "Residence City            object\n",
       "Residence State           object\n",
       "Residence County          object\n",
       "Death City                object\n",
       "Death State               object\n",
       "County                    object\n",
       "Location                  object\n",
       "DescriptionofInjury       object\n",
       "InjuryPlace               object\n",
       "ImmediateCauseA           object\n",
       "Heroin                     int64\n",
       "Cocaine                    int64\n",
       "Fentan1l                   int64\n",
       "Ox1codone                  int64\n",
       "Ox1morphone                int64\n",
       "EtOH                       int64\n",
       "H1drocodone                int64\n",
       "Benzodiazepine             int64\n",
       "Methadone                  int64\n",
       "Amphet                     int64\n",
       "Tramad                     int64\n",
       "Morphine (not heroin)      int64\n",
       "Other                     object\n",
       "MannerofDeath             object\n",
       "AmendedMannerofDeath     float64\n",
       "DeathLoc                  object\n",
       "dtype: object"
      ]
     },
     "execution_count": 6,
     "metadata": {},
     "output_type": "execute_result"
    }
   ],
   "source": [
    "#Displaying the data types \n",
    "drug.dtypes"
   ]
  },
  {
   "cell_type": "code",
   "execution_count": 7,
   "metadata": {},
   "outputs": [
    {
     "data": {
      "text/html": [
       "<div>\n",
       "<style scoped>\n",
       "    .dataframe tbody tr th:only-of-type {\n",
       "        vertical-align: middle;\n",
       "    }\n",
       "\n",
       "    .dataframe tbody tr th {\n",
       "        vertical-align: top;\n",
       "    }\n",
       "\n",
       "    .dataframe thead th {\n",
       "        text-align: right;\n",
       "    }\n",
       "</style>\n",
       "<table border=\"1\" class=\"dataframe\">\n",
       "  <thead>\n",
       "    <tr style=\"text-align: right;\">\n",
       "      <th></th>\n",
       "      <th>CaseNumber</th>\n",
       "      <th>Date</th>\n",
       "      <th>Gender</th>\n",
       "      <th>Race</th>\n",
       "      <th>age_group</th>\n",
       "      <th>Residence City</th>\n",
       "      <th>Residence State</th>\n",
       "      <th>Residence County</th>\n",
       "      <th>Death City</th>\n",
       "      <th>Death State</th>\n",
       "      <th>County</th>\n",
       "      <th>Location</th>\n",
       "      <th>DescriptionofInjury</th>\n",
       "      <th>InjuryPlace</th>\n",
       "      <th>ImmediateCauseA</th>\n",
       "      <th>Other</th>\n",
       "      <th>MannerofDeath</th>\n",
       "      <th>DeathLoc</th>\n",
       "    </tr>\n",
       "  </thead>\n",
       "  <tbody>\n",
       "    <tr>\n",
       "      <th>count</th>\n",
       "      <td>3041</td>\n",
       "      <td>3041</td>\n",
       "      <td>3030</td>\n",
       "      <td>3041</td>\n",
       "      <td>3041</td>\n",
       "      <td>2951</td>\n",
       "      <td>1140</td>\n",
       "      <td>3041</td>\n",
       "      <td>3041</td>\n",
       "      <td>1178</td>\n",
       "      <td>3041</td>\n",
       "      <td>3023</td>\n",
       "      <td>462</td>\n",
       "      <td>2969</td>\n",
       "      <td>3041</td>\n",
       "      <td>299</td>\n",
       "      <td>3035</td>\n",
       "      <td>3041</td>\n",
       "    </tr>\n",
       "    <tr>\n",
       "      <th>unique</th>\n",
       "      <td>2976</td>\n",
       "      <td>1416</td>\n",
       "      <td>2</td>\n",
       "      <td>6</td>\n",
       "      <td>5</td>\n",
       "      <td>298</td>\n",
       "      <td>13</td>\n",
       "      <td>10</td>\n",
       "      <td>194</td>\n",
       "      <td>1</td>\n",
       "      <td>9</td>\n",
       "      <td>4</td>\n",
       "      <td>35</td>\n",
       "      <td>58</td>\n",
       "      <td>1749</td>\n",
       "      <td>82</td>\n",
       "      <td>5</td>\n",
       "      <td>194</td>\n",
       "    </tr>\n",
       "    <tr>\n",
       "      <th>top</th>\n",
       "      <td>Dec-77</td>\n",
       "      <td>9/21/2013</td>\n",
       "      <td>Male</td>\n",
       "      <td>White</td>\n",
       "      <td>MiddleAged</td>\n",
       "      <td>HARTFORD</td>\n",
       "      <td>CT</td>\n",
       "      <td>HARTFORD</td>\n",
       "      <td>HARTFORD</td>\n",
       "      <td>CT</td>\n",
       "      <td>Hartford</td>\n",
       "      <td>Residence</td>\n",
       "      <td>Substance Abuse</td>\n",
       "      <td>Residence</td>\n",
       "      <td>Heroin Intoxication</td>\n",
       "      <td>MORPHINE</td>\n",
       "      <td>Accident</td>\n",
       "      <td>HARTFORD, CT\\n(41.765775, -72.673356)</td>\n",
       "    </tr>\n",
       "    <tr>\n",
       "      <th>freq</th>\n",
       "      <td>5</td>\n",
       "      <td>8</td>\n",
       "      <td>2207</td>\n",
       "      <td>2448</td>\n",
       "      <td>1472</td>\n",
       "      <td>176</td>\n",
       "      <td>1108</td>\n",
       "      <td>898</td>\n",
       "      <td>313</td>\n",
       "      <td>1178</td>\n",
       "      <td>900</td>\n",
       "      <td>1571</td>\n",
       "      <td>228</td>\n",
       "      <td>2108</td>\n",
       "      <td>130</td>\n",
       "      <td>44</td>\n",
       "      <td>3010</td>\n",
       "      <td>313</td>\n",
       "    </tr>\n",
       "  </tbody>\n",
       "</table>\n",
       "</div>"
      ],
      "text/plain": [
       "       CaseNumber       Date Gender   Race   age_group Residence City  \\\n",
       "count        3041       3041   3030   3041        3041           2951   \n",
       "unique       2976       1416      2      6           5            298   \n",
       "top        Dec-77  9/21/2013   Male  White  MiddleAged       HARTFORD   \n",
       "freq            5          8   2207   2448        1472            176   \n",
       "\n",
       "       Residence State Residence County Death City Death State    County  \\\n",
       "count             1140             3041       3041        1178      3041   \n",
       "unique              13               10        194           1         9   \n",
       "top                 CT         HARTFORD   HARTFORD          CT  Hartford   \n",
       "freq              1108              898        313        1178       900   \n",
       "\n",
       "         Location DescriptionofInjury InjuryPlace      ImmediateCauseA  \\\n",
       "count        3023                 462        2969                 3041   \n",
       "unique          4                  35          58                 1749   \n",
       "top     Residence     Substance Abuse   Residence  Heroin Intoxication   \n",
       "freq         1571                 228        2108                  130   \n",
       "\n",
       "           Other MannerofDeath                               DeathLoc  \n",
       "count        299          3035                                   3041  \n",
       "unique        82             5                                    194  \n",
       "top     MORPHINE      Accident  HARTFORD, CT\\n(41.765775, -72.673356)  \n",
       "freq          44          3010                                    313  "
      ]
     },
     "execution_count": 7,
     "metadata": {},
     "output_type": "execute_result"
    }
   ],
   "source": [
    "#identifying details of non-numerical values (objects)\n",
    "drug.describe(include=['object'])"
   ]
  },
  {
   "cell_type": "code",
   "execution_count": 8,
   "metadata": {},
   "outputs": [
    {
     "data": {
      "text/plain": [
       "(3041, 33)"
      ]
     },
     "execution_count": 8,
     "metadata": {},
     "output_type": "execute_result"
    }
   ],
   "source": [
    "#Identifying records,attributes \n",
    "drug.shape"
   ]
  },
  {
   "cell_type": "code",
   "execution_count": 9,
   "metadata": {},
   "outputs": [
    {
     "data": {
      "text/plain": [
       "CaseNumber                  0\n",
       "Date                        0\n",
       "Year                        0\n",
       "Gender                     11\n",
       "Race                        0\n",
       "Age                         0\n",
       "age_group                   0\n",
       "Residence City             90\n",
       "Residence State          1901\n",
       "Residence County            0\n",
       "Death City                  0\n",
       "Death State              1863\n",
       "County                      0\n",
       "Location                   18\n",
       "DescriptionofInjury      2579\n",
       "InjuryPlace                72\n",
       "ImmediateCauseA             0\n",
       "Heroin                      0\n",
       "Cocaine                     0\n",
       "Fentan1l                    0\n",
       "Ox1codone                   0\n",
       "Ox1morphone                 0\n",
       "EtOH                        0\n",
       "H1drocodone                 0\n",
       "Benzodiazepine              0\n",
       "Methadone                   0\n",
       "Amphet                      0\n",
       "Tramad                      0\n",
       "Morphine (not heroin)       0\n",
       "Other                    2742\n",
       "MannerofDeath               6\n",
       "AmendedMannerofDeath     3041\n",
       "DeathLoc                    0\n",
       "dtype: int64"
      ]
     },
     "execution_count": 9,
     "metadata": {},
     "output_type": "execute_result"
    }
   ],
   "source": [
    "#identifying missing values\n",
    "drug.isnull().sum()"
   ]
  },
  {
   "cell_type": "code",
   "execution_count": 10,
   "metadata": {},
   "outputs": [
    {
     "data": {
      "text/plain": [
       "Substance Abuse                     228\n",
       "substance abuse                      87\n",
       "Drug Use                             39\n",
       "drug use                             27\n",
       "SUBSTANCE ABUSE                      22\n",
       "Ingestion                            13\n",
       "Substance abuse                      12\n",
       "substance abuse (injection)           4\n",
       "Took Medication                       2\n",
       "Took Medications                      2\n",
       "Drug use                              2\n",
       "Abuse of Medication                   1\n",
       "Ingested medications                  1\n",
       "substance abuse, injection            1\n",
       "Abuse of Medications                  1\n",
       "combined alcohol and medications      1\n",
       "Took Amphetamine                      1\n",
       "Prescription Misuse                   1\n",
       "Alcohol Medications                   1\n",
       "Medications and Alcohol               1\n",
       "ALCOHOL MEDICATION ABUSE              1\n",
       "Recent cocaine use                    1\n",
       "prescription medicine abuse           1\n",
       "Used Medications, Alcohol             1\n",
       "Inhalation                            1\n",
       "Medication abuse                      1\n",
       "Abuse                                 1\n",
       "Prescription Medication               1\n",
       "Combined Medication Alcohol           1\n",
       "alcohol abuse                         1\n",
       "ingestion                             1\n",
       "Medication Alcohol Abuse              1\n",
       "Prescription Abuse                    1\n",
       "prescription  misuse                  1\n",
       "Alcohol and Medication                1\n",
       "Name: DescriptionofInjury, dtype: int64"
      ]
     },
     "execution_count": 10,
     "metadata": {},
     "output_type": "execute_result"
    }
   ],
   "source": [
    "#Checking each DescriptionofInjury value counts\n",
    "drug['DescriptionofInjury'].value_counts()"
   ]
  },
  {
   "cell_type": "code",
   "execution_count": 11,
   "metadata": {},
   "outputs": [
    {
     "data": {
      "text/plain": [
       "Residence                           2108\n",
       "Other                                226\n",
       "Residential Building                 134\n",
       "Hotel or Motel                       114\n",
       "Unknown                               93\n",
       "Hospital                              63\n",
       "Automobile                            25\n",
       "Parking Lot                           24\n",
       "Other, Other Outdoor Area             24\n",
       "In Vehicle                            21\n",
       "Other indoor Area                     11\n",
       "Restaurant                            10\n",
       "House                                  9\n",
       "Other (unknown)                        8\n",
       "Apartment                              8\n",
       "Street                                 6\n",
       "Halfway House                          5\n",
       "Driveway                               5\n",
       "Other, Park or Recreational Area       5\n",
       "Hospital or Emergency Room             4\n",
       "Porch                                  4\n",
       "Forest, Wooded Area                    4\n",
       "Field                                  3\n",
       "Office Building                        3\n",
       "Store or Shopping Area                 3\n",
       "Nursing Home                           3\n",
       "Bar or Night Club                      3\n",
       "Building                               3\n",
       "Roadway                                3\n",
       "Public Park                            2\n",
       "Casino                                 2\n",
       "Other, Industrial Area                 2\n",
       "Garage                                 2\n",
       "Sidewalk                               2\n",
       "Beach                                  2\n",
       "Train or Subway Station                2\n",
       "Other, Public Buildings                2\n",
       "Other, Residential Institution         1\n",
       "Rehab House                            1\n",
       "Rest Home                              1\n",
       "Friend's Residence                     1\n",
       "School, Primary or Secondary           1\n",
       "Public Park, Urban or Suburban         1\n",
       "Other, Farm or Ranch                   1\n",
       "car in hartford                        1\n",
       "Detoxification Center                  1\n",
       "Railroad Track                         1\n",
       "Campgrounds                            1\n",
       "Apartment House                        1\n",
       "Boat/Marina                            1\n",
       "Church                                 1\n",
       "Alleyway                               1\n",
       "homeless shelter                       1\n",
       "University or College                  1\n",
       "Warehouse                              1\n",
       "Convenience Store                      1\n",
       "Multiple Locations                     1\n",
       "Backyard                               1\n",
       "Name: InjuryPlace, dtype: int64"
      ]
     },
     "execution_count": 11,
     "metadata": {},
     "output_type": "execute_result"
    }
   ],
   "source": [
    "#Checking each InjuryPlace value counts\n",
    "drug['InjuryPlace'].value_counts()"
   ]
  },
  {
   "cell_type": "code",
   "execution_count": 12,
   "metadata": {},
   "outputs": [],
   "source": [
    "#droping Columns that is not relevant for data mining objective\n",
    "drug.drop(['Residence City', 'Residence State', 'Residence County', 'Death City', 'Death State','Location','DescriptionofInjury', 'InjuryPlace','ImmediateCauseA','Other','MannerofDeath','AmendedMannerofDeath','DeathLoc'], axis=1, inplace=True)"
   ]
  },
  {
   "cell_type": "code",
   "execution_count": 13,
   "metadata": {},
   "outputs": [
    {
     "data": {
      "text/plain": [
       "CaseNumber                0\n",
       "Date                      0\n",
       "Year                      0\n",
       "Gender                   11\n",
       "Race                      0\n",
       "Age                       0\n",
       "age_group                 0\n",
       "County                    0\n",
       "Heroin                    0\n",
       "Cocaine                   0\n",
       "Fentan1l                  0\n",
       "Ox1codone                 0\n",
       "Ox1morphone               0\n",
       "EtOH                      0\n",
       "H1drocodone               0\n",
       "Benzodiazepine            0\n",
       "Methadone                 0\n",
       "Amphet                    0\n",
       "Tramad                    0\n",
       "Morphine (not heroin)     0\n",
       "dtype: int64"
      ]
     },
     "execution_count": 13,
     "metadata": {},
     "output_type": "execute_result"
    }
   ],
   "source": [
    "#identifying missing values after droping columns\n",
    "drug.isnull().sum()"
   ]
  },
  {
   "cell_type": "code",
   "execution_count": 14,
   "metadata": {},
   "outputs": [
    {
     "data": {
      "text/plain": [
       "(3041, 20)"
      ]
     },
     "execution_count": 14,
     "metadata": {},
     "output_type": "execute_result"
    }
   ],
   "source": [
    "drug.shape"
   ]
  },
  {
   "cell_type": "code",
   "execution_count": 15,
   "metadata": {},
   "outputs": [
    {
     "data": {
      "text/plain": [
       "Index(['CaseNumber', 'Date', 'Year', 'Gender', 'Race', 'Age', 'age_group',\n",
       "       'County', 'Heroin', 'Cocaine', 'Fentan1l', 'Ox1codone', 'Ox1morphone',\n",
       "       'EtOH', 'H1drocodone', 'Benzodiazepine', 'Methadone', 'Amphet',\n",
       "       'Tramad', 'Morphine (not heroin)'],\n",
       "      dtype='object')"
      ]
     },
     "execution_count": 15,
     "metadata": {},
     "output_type": "execute_result"
    }
   ],
   "source": [
    "drug.columns"
   ]
  },
  {
   "cell_type": "code",
   "execution_count": 16,
   "metadata": {},
   "outputs": [],
   "source": [
    "drug.rename(columns={'Morphine (not heroin)':'Morphine','Fentan1l':'Fentanyl'}, inplace=True)"
   ]
  },
  {
   "cell_type": "code",
   "execution_count": 17,
   "metadata": {},
   "outputs": [
    {
     "data": {
      "text/plain": [
       "Index(['CaseNumber', 'Date', 'Year', 'Gender', 'Race', 'Age', 'age_group',\n",
       "       'County', 'Heroin', 'Cocaine', 'Fentanyl', 'Ox1codone', 'Ox1morphone',\n",
       "       'EtOH', 'H1drocodone', 'Benzodiazepine', 'Methadone', 'Amphet',\n",
       "       'Tramad', 'Morphine'],\n",
       "      dtype='object')"
      ]
     },
     "execution_count": 17,
     "metadata": {},
     "output_type": "execute_result"
    }
   ],
   "source": [
    "drug.columns"
   ]
  },
  {
   "cell_type": "code",
   "execution_count": 18,
   "metadata": {},
   "outputs": [
    {
     "data": {
      "text/html": [
       "<div>\n",
       "<style scoped>\n",
       "    .dataframe tbody tr th:only-of-type {\n",
       "        vertical-align: middle;\n",
       "    }\n",
       "\n",
       "    .dataframe tbody tr th {\n",
       "        vertical-align: top;\n",
       "    }\n",
       "\n",
       "    .dataframe thead th {\n",
       "        text-align: right;\n",
       "    }\n",
       "</style>\n",
       "<table border=\"1\" class=\"dataframe\">\n",
       "  <thead>\n",
       "    <tr style=\"text-align: right;\">\n",
       "      <th></th>\n",
       "      <th>CaseNumber</th>\n",
       "      <th>Date</th>\n",
       "      <th>Year</th>\n",
       "      <th>Gender</th>\n",
       "      <th>Race</th>\n",
       "      <th>Age</th>\n",
       "      <th>age_group</th>\n",
       "      <th>County</th>\n",
       "      <th>Heroin</th>\n",
       "      <th>Cocaine</th>\n",
       "      <th>Fentanyl</th>\n",
       "      <th>Ox1codone</th>\n",
       "      <th>Ox1morphone</th>\n",
       "      <th>EtOH</th>\n",
       "      <th>H1drocodone</th>\n",
       "      <th>Benzodiazepine</th>\n",
       "      <th>Methadone</th>\n",
       "      <th>Amphet</th>\n",
       "      <th>Tramad</th>\n",
       "      <th>Morphine</th>\n",
       "    </tr>\n",
       "  </thead>\n",
       "  <tbody>\n",
       "    <tr>\n",
       "      <th>0</th>\n",
       "      <td>13-16336</td>\n",
       "      <td>11/9/2013</td>\n",
       "      <td>2013</td>\n",
       "      <td>Female</td>\n",
       "      <td>White</td>\n",
       "      <td>53</td>\n",
       "      <td>Seniors</td>\n",
       "      <td>New London</td>\n",
       "      <td>0</td>\n",
       "      <td>0</td>\n",
       "      <td>0</td>\n",
       "      <td>1</td>\n",
       "      <td>1</td>\n",
       "      <td>0</td>\n",
       "      <td>0</td>\n",
       "      <td>1</td>\n",
       "      <td>0</td>\n",
       "      <td>0</td>\n",
       "      <td>0</td>\n",
       "      <td>0</td>\n",
       "    </tr>\n",
       "    <tr>\n",
       "      <th>1</th>\n",
       "      <td>12-18447</td>\n",
       "      <td>12/29/2012</td>\n",
       "      <td>2012</td>\n",
       "      <td>Male</td>\n",
       "      <td>White</td>\n",
       "      <td>30</td>\n",
       "      <td>MiddleAged</td>\n",
       "      <td>New Haven</td>\n",
       "      <td>0</td>\n",
       "      <td>1</td>\n",
       "      <td>0</td>\n",
       "      <td>1</td>\n",
       "      <td>0</td>\n",
       "      <td>0</td>\n",
       "      <td>0</td>\n",
       "      <td>0</td>\n",
       "      <td>0</td>\n",
       "      <td>0</td>\n",
       "      <td>0</td>\n",
       "      <td>0</td>\n",
       "    </tr>\n",
       "    <tr>\n",
       "      <th>2</th>\n",
       "      <td>14-2758</td>\n",
       "      <td>2/18/2014</td>\n",
       "      <td>2014</td>\n",
       "      <td>Male</td>\n",
       "      <td>White</td>\n",
       "      <td>43</td>\n",
       "      <td>MiddleAged</td>\n",
       "      <td>Hartford</td>\n",
       "      <td>0</td>\n",
       "      <td>0</td>\n",
       "      <td>0</td>\n",
       "      <td>0</td>\n",
       "      <td>0</td>\n",
       "      <td>1</td>\n",
       "      <td>0</td>\n",
       "      <td>1</td>\n",
       "      <td>0</td>\n",
       "      <td>0</td>\n",
       "      <td>0</td>\n",
       "      <td>0</td>\n",
       "    </tr>\n",
       "    <tr>\n",
       "      <th>3</th>\n",
       "      <td>14-13497</td>\n",
       "      <td>9/7/2014</td>\n",
       "      <td>2014</td>\n",
       "      <td>Female</td>\n",
       "      <td>White</td>\n",
       "      <td>24</td>\n",
       "      <td>Youth</td>\n",
       "      <td>New Haven</td>\n",
       "      <td>1</td>\n",
       "      <td>0</td>\n",
       "      <td>1</td>\n",
       "      <td>0</td>\n",
       "      <td>0</td>\n",
       "      <td>0</td>\n",
       "      <td>0</td>\n",
       "      <td>0</td>\n",
       "      <td>0</td>\n",
       "      <td>0</td>\n",
       "      <td>0</td>\n",
       "      <td>0</td>\n",
       "    </tr>\n",
       "    <tr>\n",
       "      <th>4</th>\n",
       "      <td>13-14421</td>\n",
       "      <td>10/4/2013</td>\n",
       "      <td>2013</td>\n",
       "      <td>Female</td>\n",
       "      <td>White</td>\n",
       "      <td>26</td>\n",
       "      <td>Youth</td>\n",
       "      <td>New Haven</td>\n",
       "      <td>1</td>\n",
       "      <td>0</td>\n",
       "      <td>0</td>\n",
       "      <td>0</td>\n",
       "      <td>0</td>\n",
       "      <td>0</td>\n",
       "      <td>0</td>\n",
       "      <td>0</td>\n",
       "      <td>0</td>\n",
       "      <td>0</td>\n",
       "      <td>0</td>\n",
       "      <td>0</td>\n",
       "    </tr>\n",
       "  </tbody>\n",
       "</table>\n",
       "</div>"
      ],
      "text/plain": [
       "  CaseNumber        Date  Year  Gender   Race  Age   age_group      County  \\\n",
       "0   13-16336   11/9/2013  2013  Female  White   53     Seniors  New London   \n",
       "1   12-18447  12/29/2012  2012    Male  White   30  MiddleAged   New Haven   \n",
       "2    14-2758   2/18/2014  2014    Male  White   43  MiddleAged    Hartford   \n",
       "3   14-13497    9/7/2014  2014  Female  White   24       Youth   New Haven   \n",
       "4   13-14421   10/4/2013  2013  Female  White   26       Youth   New Haven   \n",
       "\n",
       "   Heroin  Cocaine  Fentanyl  Ox1codone  Ox1morphone  EtOH  H1drocodone  \\\n",
       "0       0        0         0          1            1     0            0   \n",
       "1       0        1         0          1            0     0            0   \n",
       "2       0        0         0          0            0     1            0   \n",
       "3       1        0         1          0            0     0            0   \n",
       "4       1        0         0          0            0     0            0   \n",
       "\n",
       "   Benzodiazepine  Methadone  Amphet  Tramad  Morphine  \n",
       "0               1          0       0       0         0  \n",
       "1               0          0       0       0         0  \n",
       "2               1          0       0       0         0  \n",
       "3               0          0       0       0         0  \n",
       "4               0          0       0       0         0  "
      ]
     },
     "execution_count": 18,
     "metadata": {},
     "output_type": "execute_result"
    }
   ],
   "source": [
    "drug.head()"
   ]
  },
  {
   "cell_type": "code",
   "execution_count": 19,
   "metadata": {},
   "outputs": [
    {
     "data": {
      "text/plain": [
       "Hartford      900\n",
       "New Haven     849\n",
       "Fairfield     491\n",
       "New London    311\n",
       "Litchfield    175\n",
       "Windham        96\n",
       "Middletown     91\n",
       "Tolland        87\n",
       "Haddam         41\n",
       "Name: County, dtype: int64"
      ]
     },
     "execution_count": 19,
     "metadata": {},
     "output_type": "execute_result"
    }
   ],
   "source": [
    "#Checking each county value counts\n",
    "drug['County'].value_counts()"
   ]
  },
  {
   "cell_type": "code",
   "execution_count": 20,
   "metadata": {},
   "outputs": [
    {
     "data": {
      "text/plain": [
       "2016    917\n",
       "2015    723\n",
       "2014    556\n",
       "2013    490\n",
       "2012    355\n",
       "Name: Year, dtype: int64"
      ]
     },
     "execution_count": 20,
     "metadata": {},
     "output_type": "execute_result"
    }
   ],
   "source": [
    "#Checking each Year value counts\n",
    "drug['Year'].value_counts()"
   ]
  },
  {
   "cell_type": "code",
   "execution_count": 21,
   "metadata": {},
   "outputs": [
    {
     "data": {
      "text/plain": [
       "MiddleAged    1472\n",
       "Seniors        731\n",
       "Youth          597\n",
       "Elderly        201\n",
       "Teenage         40\n",
       "Name: age_group, dtype: int64"
      ]
     },
     "execution_count": 21,
     "metadata": {},
     "output_type": "execute_result"
    }
   ],
   "source": [
    "#Checking each age group value counts\n",
    "drug['age_group'].value_counts()"
   ]
  },
  {
   "cell_type": "code",
   "execution_count": 22,
   "metadata": {},
   "outputs": [
    {
     "data": {
      "text/plain": [
       "Male      2207\n",
       "Female     823\n",
       "Name: Gender, dtype: int64"
      ]
     },
     "execution_count": 22,
     "metadata": {},
     "output_type": "execute_result"
    }
   ],
   "source": [
    "#Checking each Gender value counts\n",
    "drug['Gender'].value_counts()"
   ]
  },
  {
   "cell_type": "code",
   "execution_count": 23,
   "metadata": {
    "scrolled": true
   },
   "outputs": [
    {
     "data": {
      "text/plain": [
       "White           2448\n",
       "Hispanic         327\n",
       "Black            250\n",
       "Asian Other       11\n",
       "Asian Indian       3\n",
       "Chinese            2\n",
       "Name: Race, dtype: int64"
      ]
     },
     "execution_count": 23,
     "metadata": {},
     "output_type": "execute_result"
    }
   ],
   "source": [
    "#Checking each Race value counts\n",
    "drug['Race'].value_counts()"
   ]
  },
  {
   "cell_type": "code",
   "execution_count": 24,
   "metadata": {},
   "outputs": [
    {
     "data": {
      "text/plain": [
       "1    1675\n",
       "0    1366\n",
       "Name: Heroin, dtype: int64"
      ]
     },
     "execution_count": 24,
     "metadata": {},
     "output_type": "execute_result"
    }
   ],
   "source": [
    "#Checking each Heroin value counts\n",
    "drug['Heroin'].value_counts()"
   ]
  },
  {
   "cell_type": "code",
   "execution_count": 25,
   "metadata": {},
   "outputs": [
    {
     "data": {
      "text/html": [
       "<div>\n",
       "<style scoped>\n",
       "    .dataframe tbody tr th:only-of-type {\n",
       "        vertical-align: middle;\n",
       "    }\n",
       "\n",
       "    .dataframe tbody tr th {\n",
       "        vertical-align: top;\n",
       "    }\n",
       "\n",
       "    .dataframe thead th {\n",
       "        text-align: right;\n",
       "    }\n",
       "</style>\n",
       "<table border=\"1\" class=\"dataframe\">\n",
       "  <thead>\n",
       "    <tr style=\"text-align: right;\">\n",
       "      <th></th>\n",
       "      <th>CaseNumber</th>\n",
       "      <th>Date</th>\n",
       "      <th>Year</th>\n",
       "      <th>Gender</th>\n",
       "      <th>Race</th>\n",
       "      <th>Age</th>\n",
       "      <th>age_group</th>\n",
       "      <th>County</th>\n",
       "      <th>Heroin</th>\n",
       "      <th>Cocaine</th>\n",
       "      <th>Fentanyl</th>\n",
       "      <th>Ox1codone</th>\n",
       "      <th>Ox1morphone</th>\n",
       "      <th>EtOH</th>\n",
       "      <th>H1drocodone</th>\n",
       "      <th>Benzodiazepine</th>\n",
       "      <th>Methadone</th>\n",
       "      <th>Amphet</th>\n",
       "      <th>Tramad</th>\n",
       "      <th>Morphine</th>\n",
       "    </tr>\n",
       "  </thead>\n",
       "  <tbody>\n",
       "    <tr>\n",
       "      <th>12</th>\n",
       "      <td>15-14945</td>\n",
       "      <td>9/17/2015</td>\n",
       "      <td>2015</td>\n",
       "      <td>NaN</td>\n",
       "      <td>White</td>\n",
       "      <td>27</td>\n",
       "      <td>Youth</td>\n",
       "      <td>Litchfield</td>\n",
       "      <td>1</td>\n",
       "      <td>1</td>\n",
       "      <td>0</td>\n",
       "      <td>0</td>\n",
       "      <td>0</td>\n",
       "      <td>0</td>\n",
       "      <td>0</td>\n",
       "      <td>0</td>\n",
       "      <td>0</td>\n",
       "      <td>0</td>\n",
       "      <td>0</td>\n",
       "      <td>0</td>\n",
       "    </tr>\n",
       "    <tr>\n",
       "      <th>44</th>\n",
       "      <td>15-14300</td>\n",
       "      <td>9/5/2015</td>\n",
       "      <td>2015</td>\n",
       "      <td>NaN</td>\n",
       "      <td>White</td>\n",
       "      <td>28</td>\n",
       "      <td>Youth</td>\n",
       "      <td>Middletown</td>\n",
       "      <td>1</td>\n",
       "      <td>1</td>\n",
       "      <td>1</td>\n",
       "      <td>0</td>\n",
       "      <td>0</td>\n",
       "      <td>0</td>\n",
       "      <td>0</td>\n",
       "      <td>0</td>\n",
       "      <td>0</td>\n",
       "      <td>0</td>\n",
       "      <td>0</td>\n",
       "      <td>0</td>\n",
       "    </tr>\n",
       "    <tr>\n",
       "      <th>104</th>\n",
       "      <td>Dec-83</td>\n",
       "      <td>2/21/2012</td>\n",
       "      <td>2012</td>\n",
       "      <td>NaN</td>\n",
       "      <td>White</td>\n",
       "      <td>35</td>\n",
       "      <td>MiddleAged</td>\n",
       "      <td>New Haven</td>\n",
       "      <td>0</td>\n",
       "      <td>0</td>\n",
       "      <td>0</td>\n",
       "      <td>0</td>\n",
       "      <td>0</td>\n",
       "      <td>0</td>\n",
       "      <td>0</td>\n",
       "      <td>0</td>\n",
       "      <td>1</td>\n",
       "      <td>0</td>\n",
       "      <td>0</td>\n",
       "      <td>0</td>\n",
       "    </tr>\n",
       "    <tr>\n",
       "      <th>132</th>\n",
       "      <td>12-746</td>\n",
       "      <td>1/14/2012</td>\n",
       "      <td>2012</td>\n",
       "      <td>NaN</td>\n",
       "      <td>White</td>\n",
       "      <td>18</td>\n",
       "      <td>Teenage</td>\n",
       "      <td>New London</td>\n",
       "      <td>1</td>\n",
       "      <td>1</td>\n",
       "      <td>0</td>\n",
       "      <td>0</td>\n",
       "      <td>0</td>\n",
       "      <td>0</td>\n",
       "      <td>0</td>\n",
       "      <td>0</td>\n",
       "      <td>0</td>\n",
       "      <td>0</td>\n",
       "      <td>0</td>\n",
       "      <td>0</td>\n",
       "    </tr>\n",
       "    <tr>\n",
       "      <th>192</th>\n",
       "      <td>14-245</td>\n",
       "      <td>1/5/2014</td>\n",
       "      <td>2014</td>\n",
       "      <td>NaN</td>\n",
       "      <td>Hispanic</td>\n",
       "      <td>50</td>\n",
       "      <td>Seniors</td>\n",
       "      <td>Hartford</td>\n",
       "      <td>1</td>\n",
       "      <td>0</td>\n",
       "      <td>0</td>\n",
       "      <td>0</td>\n",
       "      <td>0</td>\n",
       "      <td>0</td>\n",
       "      <td>0</td>\n",
       "      <td>1</td>\n",
       "      <td>0</td>\n",
       "      <td>0</td>\n",
       "      <td>0</td>\n",
       "      <td>0</td>\n",
       "    </tr>\n",
       "    <tr>\n",
       "      <th>246</th>\n",
       "      <td>14-9937</td>\n",
       "      <td>6/29/2014</td>\n",
       "      <td>2014</td>\n",
       "      <td>NaN</td>\n",
       "      <td>White</td>\n",
       "      <td>23</td>\n",
       "      <td>Youth</td>\n",
       "      <td>Hartford</td>\n",
       "      <td>1</td>\n",
       "      <td>0</td>\n",
       "      <td>0</td>\n",
       "      <td>0</td>\n",
       "      <td>0</td>\n",
       "      <td>0</td>\n",
       "      <td>0</td>\n",
       "      <td>0</td>\n",
       "      <td>0</td>\n",
       "      <td>0</td>\n",
       "      <td>0</td>\n",
       "      <td>0</td>\n",
       "    </tr>\n",
       "    <tr>\n",
       "      <th>304</th>\n",
       "      <td>15-29</td>\n",
       "      <td>1/1/2015</td>\n",
       "      <td>2015</td>\n",
       "      <td>NaN</td>\n",
       "      <td>White</td>\n",
       "      <td>29</td>\n",
       "      <td>Youth</td>\n",
       "      <td>Middletown</td>\n",
       "      <td>1</td>\n",
       "      <td>0</td>\n",
       "      <td>0</td>\n",
       "      <td>0</td>\n",
       "      <td>0</td>\n",
       "      <td>0</td>\n",
       "      <td>0</td>\n",
       "      <td>0</td>\n",
       "      <td>0</td>\n",
       "      <td>0</td>\n",
       "      <td>0</td>\n",
       "      <td>0</td>\n",
       "    </tr>\n",
       "    <tr>\n",
       "      <th>338</th>\n",
       "      <td>15-8345</td>\n",
       "      <td>5/17/2015</td>\n",
       "      <td>2015</td>\n",
       "      <td>NaN</td>\n",
       "      <td>Asian Other</td>\n",
       "      <td>26</td>\n",
       "      <td>Youth</td>\n",
       "      <td>Haddam</td>\n",
       "      <td>0</td>\n",
       "      <td>0</td>\n",
       "      <td>0</td>\n",
       "      <td>0</td>\n",
       "      <td>0</td>\n",
       "      <td>0</td>\n",
       "      <td>0</td>\n",
       "      <td>1</td>\n",
       "      <td>0</td>\n",
       "      <td>0</td>\n",
       "      <td>0</td>\n",
       "      <td>0</td>\n",
       "    </tr>\n",
       "    <tr>\n",
       "      <th>388</th>\n",
       "      <td>12-14330</td>\n",
       "      <td>10/13/2012</td>\n",
       "      <td>2012</td>\n",
       "      <td>NaN</td>\n",
       "      <td>Hispanic</td>\n",
       "      <td>54</td>\n",
       "      <td>Seniors</td>\n",
       "      <td>Fairfield</td>\n",
       "      <td>0</td>\n",
       "      <td>1</td>\n",
       "      <td>0</td>\n",
       "      <td>0</td>\n",
       "      <td>0</td>\n",
       "      <td>0</td>\n",
       "      <td>0</td>\n",
       "      <td>0</td>\n",
       "      <td>0</td>\n",
       "      <td>0</td>\n",
       "      <td>0</td>\n",
       "      <td>0</td>\n",
       "    </tr>\n",
       "    <tr>\n",
       "      <th>549</th>\n",
       "      <td>Dec-83</td>\n",
       "      <td>5/16/2012</td>\n",
       "      <td>2012</td>\n",
       "      <td>NaN</td>\n",
       "      <td>Black</td>\n",
       "      <td>53</td>\n",
       "      <td>Seniors</td>\n",
       "      <td>New Haven</td>\n",
       "      <td>0</td>\n",
       "      <td>1</td>\n",
       "      <td>0</td>\n",
       "      <td>0</td>\n",
       "      <td>0</td>\n",
       "      <td>0</td>\n",
       "      <td>0</td>\n",
       "      <td>0</td>\n",
       "      <td>0</td>\n",
       "      <td>0</td>\n",
       "      <td>0</td>\n",
       "      <td>0</td>\n",
       "    </tr>\n",
       "    <tr>\n",
       "      <th>2506</th>\n",
       "      <td>16-2249</td>\n",
       "      <td>1/26/2016</td>\n",
       "      <td>2016</td>\n",
       "      <td>NaN</td>\n",
       "      <td>White</td>\n",
       "      <td>30</td>\n",
       "      <td>MiddleAged</td>\n",
       "      <td>New Haven</td>\n",
       "      <td>0</td>\n",
       "      <td>1</td>\n",
       "      <td>0</td>\n",
       "      <td>0</td>\n",
       "      <td>0</td>\n",
       "      <td>0</td>\n",
       "      <td>0</td>\n",
       "      <td>0</td>\n",
       "      <td>1</td>\n",
       "      <td>0</td>\n",
       "      <td>0</td>\n",
       "      <td>0</td>\n",
       "    </tr>\n",
       "  </tbody>\n",
       "</table>\n",
       "</div>"
      ],
      "text/plain": [
       "     CaseNumber        Date  Year Gender         Race  Age   age_group  \\\n",
       "12     15-14945   9/17/2015  2015    NaN        White   27       Youth   \n",
       "44     15-14300    9/5/2015  2015    NaN        White   28       Youth   \n",
       "104      Dec-83   2/21/2012  2012    NaN        White   35  MiddleAged   \n",
       "132      12-746   1/14/2012  2012    NaN        White   18     Teenage   \n",
       "192      14-245    1/5/2014  2014    NaN    Hispanic    50     Seniors   \n",
       "246     14-9937   6/29/2014  2014    NaN        White   23       Youth   \n",
       "304       15-29    1/1/2015  2015    NaN        White   29       Youth   \n",
       "338     15-8345   5/17/2015  2015    NaN  Asian Other   26       Youth   \n",
       "388    12-14330  10/13/2012  2012    NaN    Hispanic    54     Seniors   \n",
       "549      Dec-83   5/16/2012  2012    NaN        Black   53     Seniors   \n",
       "2506    16-2249   1/26/2016  2016    NaN        White   30  MiddleAged   \n",
       "\n",
       "          County  Heroin  Cocaine  Fentanyl  Ox1codone  Ox1morphone  EtOH  \\\n",
       "12    Litchfield       1        1         0          0            0     0   \n",
       "44    Middletown       1        1         1          0            0     0   \n",
       "104    New Haven       0        0         0          0            0     0   \n",
       "132   New London       1        1         0          0            0     0   \n",
       "192     Hartford       1        0         0          0            0     0   \n",
       "246     Hartford       1        0         0          0            0     0   \n",
       "304   Middletown       1        0         0          0            0     0   \n",
       "338       Haddam       0        0         0          0            0     0   \n",
       "388    Fairfield       0        1         0          0            0     0   \n",
       "549    New Haven       0        1         0          0            0     0   \n",
       "2506   New Haven       0        1         0          0            0     0   \n",
       "\n",
       "      H1drocodone  Benzodiazepine  Methadone  Amphet  Tramad  Morphine  \n",
       "12              0               0          0       0       0         0  \n",
       "44              0               0          0       0       0         0  \n",
       "104             0               0          1       0       0         0  \n",
       "132             0               0          0       0       0         0  \n",
       "192             0               1          0       0       0         0  \n",
       "246             0               0          0       0       0         0  \n",
       "304             0               0          0       0       0         0  \n",
       "338             0               1          0       0       0         0  \n",
       "388             0               0          0       0       0         0  \n",
       "549             0               0          0       0       0         0  \n",
       "2506            0               0          1       0       0         0  "
      ]
     },
     "execution_count": 25,
     "metadata": {},
     "output_type": "execute_result"
    }
   ],
   "source": [
    "#Checking each the 11 missing records in Gender Column\n",
    "drug[drug.Gender.isnull()]"
   ]
  },
  {
   "cell_type": "code",
   "execution_count": 26,
   "metadata": {},
   "outputs": [
    {
     "data": {
      "text/plain": [
       "(3041, 20)"
      ]
     },
     "execution_count": 26,
     "metadata": {},
     "output_type": "execute_result"
    }
   ],
   "source": [
    "#Identifying records,attributes \n",
    "drug.shape"
   ]
  },
  {
   "cell_type": "code",
   "execution_count": 27,
   "metadata": {},
   "outputs": [
    {
     "data": {
      "text/plain": [
       "(3030, 20)"
      ]
     },
     "execution_count": 27,
     "metadata": {},
     "output_type": "execute_result"
    }
   ],
   "source": [
    "#Dropping any value that has a null value... But this is temporary\n",
    "drug.dropna(how='any').shape"
   ]
  },
  {
   "cell_type": "code",
   "execution_count": 28,
   "metadata": {},
   "outputs": [
    {
     "data": {
      "text/plain": [
       "(3041, 20)"
      ]
     },
     "execution_count": 28,
     "metadata": {},
     "output_type": "execute_result"
    }
   ],
   "source": [
    "# Hence its temporary, the original value records and attributes displays\n",
    "drug.shape"
   ]
  },
  {
   "cell_type": "code",
   "execution_count": 29,
   "metadata": {},
   "outputs": [],
   "source": [
    "# Removing all missing records of Gender column\n",
    "drug.dropna(subset=['Gender'],how='all').shape\n",
    "# Applying changes to the dataset\n",
    "drug.dropna(inplace=True)"
   ]
  },
  {
   "cell_type": "code",
   "execution_count": 30,
   "metadata": {},
   "outputs": [
    {
     "data": {
      "text/plain": [
       "(3030, 20)"
      ]
     },
     "execution_count": 30,
     "metadata": {},
     "output_type": "execute_result"
    }
   ],
   "source": [
    "#New data set records and attributes after the change\n",
    "drug.shape"
   ]
  },
  {
   "cell_type": "code",
   "execution_count": 31,
   "metadata": {},
   "outputs": [
    {
     "data": {
      "text/plain": [
       "Gender  age_group \n",
       "Female  MiddleAged    0.467801\n",
       "        Seniors       0.279465\n",
       "        Youth         0.181045\n",
       "        Elderly       0.053463\n",
       "        Teenage       0.018226\n",
       "Male    MiddleAged    0.491618\n",
       "        Seniors       0.225646\n",
       "        Youth         0.200725\n",
       "        Elderly       0.071137\n",
       "        Teenage       0.010874\n",
       "Name: age_group, dtype: float64"
      ]
     },
     "execution_count": 31,
     "metadata": {},
     "output_type": "execute_result"
    }
   ],
   "source": [
    "# Grouping by gender and age group\n",
    "drug.groupby('Gender').age_group.value_counts(normalize=True)"
   ]
  },
  {
   "cell_type": "code",
   "execution_count": 32,
   "metadata": {},
   "outputs": [
    {
     "data": {
      "text/html": [
       "<div>\n",
       "<style scoped>\n",
       "    .dataframe tbody tr th:only-of-type {\n",
       "        vertical-align: middle;\n",
       "    }\n",
       "\n",
       "    .dataframe tbody tr th {\n",
       "        vertical-align: top;\n",
       "    }\n",
       "\n",
       "    .dataframe thead th {\n",
       "        text-align: right;\n",
       "    }\n",
       "</style>\n",
       "<table border=\"1\" class=\"dataframe\">\n",
       "  <thead>\n",
       "    <tr style=\"text-align: right;\">\n",
       "      <th>age_group</th>\n",
       "      <th>Elderly</th>\n",
       "      <th>MiddleAged</th>\n",
       "      <th>Seniors</th>\n",
       "      <th>Teenage</th>\n",
       "      <th>Youth</th>\n",
       "    </tr>\n",
       "    <tr>\n",
       "      <th>Gender</th>\n",
       "      <th></th>\n",
       "      <th></th>\n",
       "      <th></th>\n",
       "      <th></th>\n",
       "      <th></th>\n",
       "    </tr>\n",
       "  </thead>\n",
       "  <tbody>\n",
       "    <tr>\n",
       "      <th>Female</th>\n",
       "      <td>0.053463</td>\n",
       "      <td>0.467801</td>\n",
       "      <td>0.279465</td>\n",
       "      <td>0.018226</td>\n",
       "      <td>0.181045</td>\n",
       "    </tr>\n",
       "    <tr>\n",
       "      <th>Male</th>\n",
       "      <td>0.071137</td>\n",
       "      <td>0.491618</td>\n",
       "      <td>0.225646</td>\n",
       "      <td>0.010874</td>\n",
       "      <td>0.200725</td>\n",
       "    </tr>\n",
       "  </tbody>\n",
       "</table>\n",
       "</div>"
      ],
      "text/plain": [
       "age_group   Elderly  MiddleAged   Seniors   Teenage     Youth\n",
       "Gender                                                       \n",
       "Female     0.053463    0.467801  0.279465  0.018226  0.181045\n",
       "Male       0.071137    0.491618  0.225646  0.010874  0.200725"
      ]
     },
     "execution_count": 32,
     "metadata": {},
     "output_type": "execute_result"
    }
   ],
   "source": [
    "# Pivoting  index labels - Gender and age_group\n",
    "drug.groupby('Gender').age_group.value_counts(normalize=True).unstack()"
   ]
  },
  {
   "cell_type": "code",
   "execution_count": 33,
   "metadata": {},
   "outputs": [
    {
     "data": {
      "text/plain": [
       "Heroin  County    \n",
       "0       New Haven     0.310066\n",
       "        Hartford      0.267450\n",
       "        Fairfield     0.174137\n",
       "        New London    0.093314\n",
       "        Litchfield    0.049963\n",
       "        Tolland       0.033799\n",
       "        Middletown    0.029390\n",
       "        Windham       0.028655\n",
       "        Haddam        0.013226\n",
       "1       Hartford      0.319952\n",
       "        New Haven     0.254044\n",
       "        Fairfield     0.151588\n",
       "        New London    0.109646\n",
       "        Litchfield    0.063511\n",
       "        Windham       0.034152\n",
       "        Middletown    0.029359\n",
       "        Tolland       0.024566\n",
       "        Haddam        0.013182\n",
       "Name: County, dtype: float64"
      ]
     },
     "execution_count": 33,
     "metadata": {},
     "output_type": "execute_result"
    }
   ],
   "source": [
    "# Grouping by Heroin and County\n",
    "drug.groupby('Heroin').County.value_counts(normalize=True)"
   ]
  },
  {
   "cell_type": "code",
   "execution_count": 34,
   "metadata": {},
   "outputs": [
    {
     "data": {
      "text/html": [
       "<div>\n",
       "<style scoped>\n",
       "    .dataframe tbody tr th:only-of-type {\n",
       "        vertical-align: middle;\n",
       "    }\n",
       "\n",
       "    .dataframe tbody tr th {\n",
       "        vertical-align: top;\n",
       "    }\n",
       "\n",
       "    .dataframe thead th {\n",
       "        text-align: right;\n",
       "    }\n",
       "</style>\n",
       "<table border=\"1\" class=\"dataframe\">\n",
       "  <thead>\n",
       "    <tr style=\"text-align: right;\">\n",
       "      <th>County</th>\n",
       "      <th>Fairfield</th>\n",
       "      <th>Haddam</th>\n",
       "      <th>Hartford</th>\n",
       "      <th>Litchfield</th>\n",
       "      <th>Middletown</th>\n",
       "      <th>New Haven</th>\n",
       "      <th>New London</th>\n",
       "      <th>Tolland</th>\n",
       "      <th>Windham</th>\n",
       "    </tr>\n",
       "    <tr>\n",
       "      <th>Heroin</th>\n",
       "      <th></th>\n",
       "      <th></th>\n",
       "      <th></th>\n",
       "      <th></th>\n",
       "      <th></th>\n",
       "      <th></th>\n",
       "      <th></th>\n",
       "      <th></th>\n",
       "      <th></th>\n",
       "    </tr>\n",
       "  </thead>\n",
       "  <tbody>\n",
       "    <tr>\n",
       "      <th>0</th>\n",
       "      <td>0.174137</td>\n",
       "      <td>0.013226</td>\n",
       "      <td>0.267450</td>\n",
       "      <td>0.049963</td>\n",
       "      <td>0.029390</td>\n",
       "      <td>0.310066</td>\n",
       "      <td>0.093314</td>\n",
       "      <td>0.033799</td>\n",
       "      <td>0.028655</td>\n",
       "    </tr>\n",
       "    <tr>\n",
       "      <th>1</th>\n",
       "      <td>0.151588</td>\n",
       "      <td>0.013182</td>\n",
       "      <td>0.319952</td>\n",
       "      <td>0.063511</td>\n",
       "      <td>0.029359</td>\n",
       "      <td>0.254044</td>\n",
       "      <td>0.109646</td>\n",
       "      <td>0.024566</td>\n",
       "      <td>0.034152</td>\n",
       "    </tr>\n",
       "  </tbody>\n",
       "</table>\n",
       "</div>"
      ],
      "text/plain": [
       "County  Fairfield    Haddam  Hartford  Litchfield  Middletown  New Haven  \\\n",
       "Heroin                                                                     \n",
       "0        0.174137  0.013226  0.267450    0.049963    0.029390   0.310066   \n",
       "1        0.151588  0.013182  0.319952    0.063511    0.029359   0.254044   \n",
       "\n",
       "County  New London   Tolland   Windham  \n",
       "Heroin                                  \n",
       "0         0.093314  0.033799  0.028655  \n",
       "1         0.109646  0.024566  0.034152  "
      ]
     },
     "execution_count": 34,
     "metadata": {},
     "output_type": "execute_result"
    }
   ],
   "source": [
    "# Pivoting a level of index labels - Heroin, County\n",
    "drug.groupby('Heroin').County.value_counts(normalize=True).unstack()"
   ]
  },
  {
   "cell_type": "code",
   "execution_count": 35,
   "metadata": {},
   "outputs": [
    {
     "data": {
      "text/plain": [
       "County      Year\n",
       "Fairfield   2016    0.326531\n",
       "            2015    0.204082\n",
       "            2013    0.185714\n",
       "            2014    0.183673\n",
       "            2012    0.100000\n",
       "Haddam      2016    0.425000\n",
       "            2015    0.225000\n",
       "            2012    0.150000\n",
       "            2014    0.125000\n",
       "            2013    0.075000\n",
       "Hartford    2016    0.317372\n",
       "            2015    0.237194\n",
       "            2014    0.181514\n",
       "            2013    0.149220\n",
       "            2012    0.114699\n",
       "Litchfield  2015    0.258621\n",
       "            2013    0.218391\n",
       "            2014    0.218391\n",
       "            2016    0.195402\n",
       "            2012    0.109195\n",
       "Middletown  2015    0.314607\n",
       "            2014    0.202247\n",
       "            2016    0.191011\n",
       "            2013    0.157303\n",
       "            2012    0.134831\n",
       "New Haven   2016    0.309693\n",
       "            2015    0.248227\n",
       "            2014    0.166667\n",
       "            2013    0.160757\n",
       "            2012    0.114657\n",
       "New London  2016    0.303226\n",
       "            2015    0.200000\n",
       "            2013    0.183871\n",
       "            2014    0.183871\n",
       "            2012    0.129032\n",
       "Tolland     2016    0.275862\n",
       "            2014    0.264368\n",
       "            2015    0.218391\n",
       "            2012    0.126437\n",
       "            2013    0.114943\n",
       "Windham     2015    0.343750\n",
       "            2016    0.239583\n",
       "            2014    0.197917\n",
       "            2012    0.145833\n",
       "            2013    0.072917\n",
       "Name: Year, dtype: float64"
      ]
     },
     "execution_count": 35,
     "metadata": {},
     "output_type": "execute_result"
    }
   ],
   "source": [
    "# Grouping by County and Year\n",
    "drug.groupby('County').Year.value_counts(normalize=True)"
   ]
  },
  {
   "cell_type": "code",
   "execution_count": 36,
   "metadata": {},
   "outputs": [
    {
     "data": {
      "text/html": [
       "<div>\n",
       "<style scoped>\n",
       "    .dataframe tbody tr th:only-of-type {\n",
       "        vertical-align: middle;\n",
       "    }\n",
       "\n",
       "    .dataframe tbody tr th {\n",
       "        vertical-align: top;\n",
       "    }\n",
       "\n",
       "    .dataframe thead th {\n",
       "        text-align: right;\n",
       "    }\n",
       "</style>\n",
       "<table border=\"1\" class=\"dataframe\">\n",
       "  <thead>\n",
       "    <tr style=\"text-align: right;\">\n",
       "      <th>Year</th>\n",
       "      <th>2012</th>\n",
       "      <th>2013</th>\n",
       "      <th>2014</th>\n",
       "      <th>2015</th>\n",
       "      <th>2016</th>\n",
       "    </tr>\n",
       "    <tr>\n",
       "      <th>County</th>\n",
       "      <th></th>\n",
       "      <th></th>\n",
       "      <th></th>\n",
       "      <th></th>\n",
       "      <th></th>\n",
       "    </tr>\n",
       "  </thead>\n",
       "  <tbody>\n",
       "    <tr>\n",
       "      <th>Fairfield</th>\n",
       "      <td>0.100000</td>\n",
       "      <td>0.185714</td>\n",
       "      <td>0.183673</td>\n",
       "      <td>0.204082</td>\n",
       "      <td>0.326531</td>\n",
       "    </tr>\n",
       "    <tr>\n",
       "      <th>Haddam</th>\n",
       "      <td>0.150000</td>\n",
       "      <td>0.075000</td>\n",
       "      <td>0.125000</td>\n",
       "      <td>0.225000</td>\n",
       "      <td>0.425000</td>\n",
       "    </tr>\n",
       "    <tr>\n",
       "      <th>Hartford</th>\n",
       "      <td>0.114699</td>\n",
       "      <td>0.149220</td>\n",
       "      <td>0.181514</td>\n",
       "      <td>0.237194</td>\n",
       "      <td>0.317372</td>\n",
       "    </tr>\n",
       "    <tr>\n",
       "      <th>Litchfield</th>\n",
       "      <td>0.109195</td>\n",
       "      <td>0.218391</td>\n",
       "      <td>0.218391</td>\n",
       "      <td>0.258621</td>\n",
       "      <td>0.195402</td>\n",
       "    </tr>\n",
       "    <tr>\n",
       "      <th>Middletown</th>\n",
       "      <td>0.134831</td>\n",
       "      <td>0.157303</td>\n",
       "      <td>0.202247</td>\n",
       "      <td>0.314607</td>\n",
       "      <td>0.191011</td>\n",
       "    </tr>\n",
       "    <tr>\n",
       "      <th>New Haven</th>\n",
       "      <td>0.114657</td>\n",
       "      <td>0.160757</td>\n",
       "      <td>0.166667</td>\n",
       "      <td>0.248227</td>\n",
       "      <td>0.309693</td>\n",
       "    </tr>\n",
       "    <tr>\n",
       "      <th>New London</th>\n",
       "      <td>0.129032</td>\n",
       "      <td>0.183871</td>\n",
       "      <td>0.183871</td>\n",
       "      <td>0.200000</td>\n",
       "      <td>0.303226</td>\n",
       "    </tr>\n",
       "    <tr>\n",
       "      <th>Tolland</th>\n",
       "      <td>0.126437</td>\n",
       "      <td>0.114943</td>\n",
       "      <td>0.264368</td>\n",
       "      <td>0.218391</td>\n",
       "      <td>0.275862</td>\n",
       "    </tr>\n",
       "    <tr>\n",
       "      <th>Windham</th>\n",
       "      <td>0.145833</td>\n",
       "      <td>0.072917</td>\n",
       "      <td>0.197917</td>\n",
       "      <td>0.343750</td>\n",
       "      <td>0.239583</td>\n",
       "    </tr>\n",
       "  </tbody>\n",
       "</table>\n",
       "</div>"
      ],
      "text/plain": [
       "Year            2012      2013      2014      2015      2016\n",
       "County                                                      \n",
       "Fairfield   0.100000  0.185714  0.183673  0.204082  0.326531\n",
       "Haddam      0.150000  0.075000  0.125000  0.225000  0.425000\n",
       "Hartford    0.114699  0.149220  0.181514  0.237194  0.317372\n",
       "Litchfield  0.109195  0.218391  0.218391  0.258621  0.195402\n",
       "Middletown  0.134831  0.157303  0.202247  0.314607  0.191011\n",
       "New Haven   0.114657  0.160757  0.166667  0.248227  0.309693\n",
       "New London  0.129032  0.183871  0.183871  0.200000  0.303226\n",
       "Tolland     0.126437  0.114943  0.264368  0.218391  0.275862\n",
       "Windham     0.145833  0.072917  0.197917  0.343750  0.239583"
      ]
     },
     "execution_count": 36,
     "metadata": {},
     "output_type": "execute_result"
    }
   ],
   "source": [
    "# Pivoting a level of index labels - County, Year\n",
    "drug.groupby('County').Year.value_counts(normalize=True).unstack()"
   ]
  },
  {
   "cell_type": "code",
   "execution_count": 37,
   "metadata": {},
   "outputs": [
    {
     "data": {
      "text/plain": [
       "41.795709570957094"
      ]
     },
     "execution_count": 37,
     "metadata": {},
     "output_type": "execute_result"
    }
   ],
   "source": [
    "#Finding age mean\n",
    "drug.Age.mean()"
   ]
  },
  {
   "cell_type": "code",
   "execution_count": 38,
   "metadata": {},
   "outputs": [
    {
     "data": {
      "text/plain": [
       "0.5508250825082508"
      ]
     },
     "execution_count": 38,
     "metadata": {},
     "output_type": "execute_result"
    }
   ],
   "source": [
    "#Finding heroin mean\n",
    "drug.Heroin.mean()"
   ]
  },
  {
   "cell_type": "code",
   "execution_count": 39,
   "metadata": {},
   "outputs": [
    {
     "data": {
      "text/plain": [
       "age_group\n",
       "Elderly       0.412935\n",
       "MiddleAged    0.564626\n",
       "Seniors       0.423077\n",
       "Teenage       0.615385\n",
       "Youth         0.716216\n",
       "Name: Heroin, dtype: float64"
      ]
     },
     "execution_count": 39,
     "metadata": {},
     "output_type": "execute_result"
    }
   ],
   "source": [
    "#grouping by age group and Heroin mean\n",
    "drug.groupby('age_group').Heroin.mean()"
   ]
  },
  {
   "cell_type": "code",
   "execution_count": 40,
   "metadata": {},
   "outputs": [
    {
     "data": {
      "text/plain": [
       "<matplotlib.axes._subplots.AxesSubplot at 0x7fbfa29dec50>"
      ]
     },
     "execution_count": 40,
     "metadata": {},
     "output_type": "execute_result"
    },
    {
     "data": {
      "image/png": "[encoded data removed]",
      "text/plain": [
       "<Figure size 432x288 with 1 Axes>"
      ]
     },
     "metadata": {},
     "output_type": "display_data"
    }
   ],
   "source": [
    "#Ploting relationship between age and heroin mean\n",
    "drug.groupby('Age').Heroin.mean().plot()"
   ]
  },
  {
   "cell_type": "code",
   "execution_count": 41,
   "metadata": {},
   "outputs": [
    {
     "data": {
      "text/plain": [
       "Year\n",
       "2012    351\n",
       "2013    490\n",
       "2014    554\n",
       "2015    719\n",
       "2016    916\n",
       "Name: Heroin, dtype: int64"
      ]
     },
     "execution_count": 41,
     "metadata": {},
     "output_type": "execute_result"
    }
   ],
   "source": [
    "#grouping year and heroin count\n",
    "drug.groupby('Year').Heroin.count()"
   ]
  },
  {
   "cell_type": "code",
   "execution_count": 42,
   "metadata": {},
   "outputs": [
    {
     "data": {
      "text/plain": [
       "<matplotlib.axes._subplots.AxesSubplot at 0x7fbfa297bd30>"
      ]
     },
     "execution_count": 42,
     "metadata": {},
     "output_type": "execute_result"
    },
    {
     "data": {
      "image/png": "[encoded data removed]",
      "text/plain": [
       "<Figure size 432x288 with 1 Axes>"
      ]
     },
     "metadata": {},
     "output_type": "display_data"
    }
   ],
   "source": [
    "#Ploting year and heroin count\n",
    "drug.groupby('Year').Heroin.count().plot()"
   ]
  },
  {
   "cell_type": "code",
   "execution_count": 43,
   "metadata": {},
   "outputs": [
    {
     "data": {
      "text/plain": [
       "<matplotlib.axes._subplots.AxesSubplot at 0x7fbfa28ce278>"
      ]
     },
     "execution_count": 43,
     "metadata": {},
     "output_type": "execute_result"
    },
    {
     "data": {
      "image/png": "[encoded data removed]",
      "text/plain": [
       "<Figure size 432x288 with 1 Axes>"
      ]
     },
     "metadata": {},
     "output_type": "display_data"
    }
   ],
   "source": [
    "# Ploting year and heroin mean\n",
    "drug.groupby('Year').Heroin.mean().plot()"
   ]
  },
  {
   "cell_type": "code",
   "execution_count": 44,
   "metadata": {},
   "outputs": [
    {
     "data": {
      "text/plain": [
       "Age\n",
       "14     1\n",
       "16     1\n",
       "17     6\n",
       "18    12\n",
       "19    19\n",
       "20    25\n",
       "21    35\n",
       "22    47\n",
       "23    45\n",
       "24    62\n",
       "25    62\n",
       "26    84\n",
       "27    57\n",
       "28    85\n",
       "29    90\n",
       "30    73\n",
       "31    69\n",
       "32    64\n",
       "33    80\n",
       "34    69\n",
       "35    82\n",
       "36    65\n",
       "37    63\n",
       "38    63\n",
       "39    69\n",
       "40    66\n",
       "41    68\n",
       "42    54\n",
       "43    71\n",
       "44    95\n",
       "      ..\n",
       "47    81\n",
       "48    84\n",
       "49    96\n",
       "50    89\n",
       "51    94\n",
       "52    78\n",
       "53    67\n",
       "54    82\n",
       "55    78\n",
       "56    66\n",
       "57    59\n",
       "58    69\n",
       "59    46\n",
       "60    36\n",
       "61    32\n",
       "62    25\n",
       "63    25\n",
       "64    12\n",
       "65    13\n",
       "66    13\n",
       "67     8\n",
       "68     6\n",
       "69     3\n",
       "70     7\n",
       "71     7\n",
       "72     7\n",
       "73     3\n",
       "75     2\n",
       "81     1\n",
       "87     1\n",
       "Name: Heroin, Length: 62, dtype: int64"
      ]
     },
     "execution_count": 44,
     "metadata": {},
     "output_type": "execute_result"
    }
   ],
   "source": [
    "#grouping age and heroin count\n",
    "drug.groupby('Age').Heroin.count()"
   ]
  },
  {
   "cell_type": "code",
   "execution_count": 45,
   "metadata": {},
   "outputs": [
    {
     "data": {
      "text/plain": [
       "<matplotlib.axes._subplots.AxesSubplot at 0x7fbfa2977b00>"
      ]
     },
     "execution_count": 45,
     "metadata": {},
     "output_type": "execute_result"
    },
    {
     "data": {
      "image/png": "[encoded data removed]",
      "text/plain": [
       "<Figure size 432x288 with 1 Axes>"
      ]
     },
     "metadata": {},
     "output_type": "display_data"
    }
   ],
   "source": [
    "# Ploting year and heroin mean\n",
    "drug.groupby('Age').Heroin.count().plot()"
   ]
  },
  {
   "cell_type": "code",
   "execution_count": 46,
   "metadata": {},
   "outputs": [
    {
     "data": {
      "text/plain": [
       "County\n",
       "Fairfield     490\n",
       "Haddam         40\n",
       "Hartford      898\n",
       "Litchfield    174\n",
       "Middletown     89\n",
       "New Haven     846\n",
       "New London    310\n",
       "Tolland        87\n",
       "Windham        96\n",
       "Name: Heroin, dtype: int64"
      ]
     },
     "execution_count": 46,
     "metadata": {},
     "output_type": "execute_result"
    }
   ],
   "source": [
    "# Display county by heroin count\n",
    "drug.groupby('County').Heroin.count()"
   ]
  },
  {
   "cell_type": "code",
   "execution_count": 47,
   "metadata": {},
   "outputs": [
    {
     "data": {
      "text/plain": [
       "<matplotlib.axes._subplots.AxesSubplot at 0x7fbfa28bfb38>"
      ]
     },
     "execution_count": 47,
     "metadata": {},
     "output_type": "execute_result"
    },
    {
     "data": {
      "image/png": "[encoded data removed]",
      "text/plain": [
       "<Figure size 432x288 with 1 Axes>"
      ]
     },
     "metadata": {},
     "output_type": "display_data"
    }
   ],
   "source": [
    "# Display county by heroin count\n",
    "drug.groupby('County').Heroin.count().plot()"
   ]
  },
  {
   "cell_type": "code",
   "execution_count": 48,
   "metadata": {},
   "outputs": [
    {
     "data": {
      "text/plain": [
       "<matplotlib.axes._subplots.AxesSubplot at 0x7fbfa297bc88>"
      ]
     },
     "execution_count": 48,
     "metadata": {},
     "output_type": "execute_result"
    },
    {
     "data": {
      "image/png": "[encoded data removed]",
      "text/plain": [
       "<Figure size 432x288 with 1 Axes>"
      ]
     },
     "metadata": {},
     "output_type": "display_data"
    }
   ],
   "source": [
    "# Display county by Age count\n",
    "drug.groupby('County').Age.mean().plot()"
   ]
  },
  {
   "cell_type": "code",
   "execution_count": 49,
   "metadata": {},
   "outputs": [],
   "source": [
    "#Reading the data\n",
    "dfN = spark.read.csv('Datasets/AccidentalDrugRelatedDeathsFinals.csv',header=True,inferSchema=True)"
   ]
  },
  {
   "cell_type": "code",
   "execution_count": 50,
   "metadata": {},
   "outputs": [],
   "source": [
    "# Import the relevant packages.\n",
    "from pyspark.sql import SparkSession\n",
    "from pyspark.ml.feature import (VectorAssembler,VectorIndexer,StringIndexer, OneHotEncoder)\n",
    "from pyspark.ml import Pipeline\n",
    "from pyspark.ml.evaluation import BinaryClassificationEvaluator"
   ]
  },
  {
   "cell_type": "code",
   "execution_count": 51,
   "metadata": {},
   "outputs": [
    {
     "name": "stdout",
     "output_type": "stream",
     "text": [
      "Total data points: 3041\n",
      "Total data points: 3030\n"
     ]
    }
   ],
   "source": [
    "# dropping missing values and assigning a new dataframe\n",
    "print(\"Total data points:\", dfN.count())\n",
    "df=dfN.dropna()\n",
    "print(\"Total data points:\", df.count())"
   ]
  },
  {
   "cell_type": "code",
   "execution_count": 52,
   "metadata": {},
   "outputs": [
    {
     "name": "stdout",
     "output_type": "stream",
     "text": [
      "root\n",
      " |-- CaseNumber: string (nullable = true)\n",
      " |-- Date: string (nullable = true)\n",
      " |-- Year: integer (nullable = true)\n",
      " |-- Gender: string (nullable = true)\n",
      " |-- Race: string (nullable = true)\n",
      " |-- Age: integer (nullable = true)\n",
      " |-- age_group: string (nullable = true)\n",
      " |-- County: string (nullable = true)\n",
      " |-- Heroin: integer (nullable = true)\n",
      " |-- Cocaine: integer (nullable = true)\n",
      " |-- Fentanyl: integer (nullable = true)\n",
      " |-- Ox1codone: integer (nullable = true)\n",
      " |-- Ox1morphone: integer (nullable = true)\n",
      " |-- EtOH: integer (nullable = true)\n",
      " |-- H1drocodone: integer (nullable = true)\n",
      " |-- Benzodiazepine: integer (nullable = true)\n",
      " |-- Methadone: integer (nullable = true)\n",
      " |-- Amphet: integer (nullable = true)\n",
      " |-- Tramad: integer (nullable = true)\n",
      " |-- Morphine : integer (nullable = true)\n",
      "\n",
      "[Row(CaseNumber='13-16336', Date='11/9/2013', Year=2013, Gender='Female', Race='White', Age=53, age_group='Seniors', County='New London', Heroin=0, Cocaine=0, Fentanyl=0, Ox1codone=1, Ox1morphone=1, EtOH=0, H1drocodone=0, Benzodiazepine=1, Methadone=0, Amphet=0, Tramad=0, Morphine =0), Row(CaseNumber='12-18447', Date='12/29/2012', Year=2012, Gender='Male', Race='White', Age=30, age_group='MiddleAged', County='New Haven', Heroin=0, Cocaine=1, Fentanyl=0, Ox1codone=1, Ox1morphone=0, EtOH=0, H1drocodone=0, Benzodiazepine=0, Methadone=0, Amphet=0, Tramad=0, Morphine =0)]\n"
     ]
    }
   ],
   "source": [
    "# Visualizing the data structure at a high level \n",
    "df.printSchema()\n",
    "\n",
    "# Displaying first two rows\n",
    "print(df.head(2))"
   ]
  },
  {
   "cell_type": "code",
   "execution_count": 53,
   "metadata": {},
   "outputs": [
    {
     "name": "stdout",
     "output_type": "stream",
     "text": [
      "root\n",
      " |-- Year: integer (nullable = true)\n",
      " |-- Gender: string (nullable = true)\n",
      " |-- Race: string (nullable = true)\n",
      " |-- Age: integer (nullable = true)\n",
      " |-- age_group: string (nullable = true)\n",
      " |-- County: string (nullable = true)\n",
      " |-- Heroin: integer (nullable = true)\n",
      "\n"
     ]
    }
   ],
   "source": [
    "#selecting the relevant features. \n",
    "\n",
    "df = df.select('Year', 'Gender', 'Race', 'Age', 'age_group', 'County', 'Heroin')\n",
    "df.printSchema()"
   ]
  },
  {
   "cell_type": "code",
   "execution_count": 54,
   "metadata": {
    "scrolled": true
   },
   "outputs": [
    {
     "data": {
      "text/html": [
       "<div>\n",
       "<style scoped>\n",
       "    .dataframe tbody tr th:only-of-type {\n",
       "        vertical-align: middle;\n",
       "    }\n",
       "\n",
       "    .dataframe tbody tr th {\n",
       "        vertical-align: top;\n",
       "    }\n",
       "\n",
       "    .dataframe thead th {\n",
       "        text-align: right;\n",
       "    }\n",
       "</style>\n",
       "<table border=\"1\" class=\"dataframe\">\n",
       "  <thead>\n",
       "    <tr style=\"text-align: right;\">\n",
       "      <th></th>\n",
       "      <th>0</th>\n",
       "      <th>1</th>\n",
       "      <th>2</th>\n",
       "      <th>3</th>\n",
       "      <th>4</th>\n",
       "    </tr>\n",
       "  </thead>\n",
       "  <tbody>\n",
       "    <tr>\n",
       "      <th>summary</th>\n",
       "      <td>count</td>\n",
       "      <td>mean</td>\n",
       "      <td>stddev</td>\n",
       "      <td>min</td>\n",
       "      <td>max</td>\n",
       "    </tr>\n",
       "    <tr>\n",
       "      <th>Year</th>\n",
       "      <td>3030</td>\n",
       "      <td>2014.4485148514852</td>\n",
       "      <td>1.3678702804975316</td>\n",
       "      <td>2012</td>\n",
       "      <td>2016</td>\n",
       "    </tr>\n",
       "    <tr>\n",
       "      <th>Age</th>\n",
       "      <td>3030</td>\n",
       "      <td>41.795709570957094</td>\n",
       "      <td>12.328031925398939</td>\n",
       "      <td>14</td>\n",
       "      <td>87</td>\n",
       "    </tr>\n",
       "    <tr>\n",
       "      <th>Heroin</th>\n",
       "      <td>3030</td>\n",
       "      <td>0.5508250825082508</td>\n",
       "      <td>0.4974922046215441</td>\n",
       "      <td>0</td>\n",
       "      <td>1</td>\n",
       "    </tr>\n",
       "  </tbody>\n",
       "</table>\n",
       "</div>"
      ],
      "text/plain": [
       "             0                   1                   2     3     4\n",
       "summary  count                mean              stddev   min   max\n",
       "Year      3030  2014.4485148514852  1.3678702804975316  2012  2016\n",
       "Age       3030  41.795709570957094  12.328031925398939    14    87\n",
       "Heroin    3030  0.5508250825082508  0.4974922046215441     0     1"
      ]
     },
     "execution_count": 54,
     "metadata": {},
     "output_type": "execute_result"
    }
   ],
   "source": [
    "# Using a for loop to find all columns that belong to the integer data type. \n",
    "numeric_features = [t[0] for t in df.dtypes if t[1] == 'int']\n",
    "\n",
    "# Selecting the numeric features, generating summary statistics, and converting to a Pandas DataFrame.\n",
    "df.select(numeric_features).describe().toPandas().transpose()"
   ]
  },
  {
   "cell_type": "code",
   "execution_count": 55,
   "metadata": {},
   "outputs": [],
   "source": [
    "# First creating a string indexer which converts every string into a number, such as male = 0 and female = 1.\n",
    "# A number will be assigned to every category in the column.\n",
    "\n",
    "gender_indexer = StringIndexer(inputCol='Gender',outputCol='genderIndex')\n",
    "race_indexer = StringIndexer(inputCol='Race',outputCol='raceIndex')\n",
    "agegroup_indexer = StringIndexer(inputCol='age_group',outputCol='agegroupIndex')\n",
    "county_indexer = StringIndexer(inputCol='County',outputCol='countyIndex')\n",
    "year_indexer = StringIndexer(inputCol='Year',outputCol='yearIndex')\n",
    "age_indexer = StringIndexer(inputCol='Age',outputCol='ageIndex')\n",
    "heroin_indexer = StringIndexer(inputCol='Heroin',outputCol='label')\n",
    "\n",
    "# Then one hot encode these numbers. This converts the various outputs into a single vector.\n",
    "# Multiple columns are collapsed into one. \n",
    "# This makes it easier to process when having multiple classes.\n",
    "gender_encoder = OneHotEncoder(inputCol='genderIndex',outputCol='genderVec')\n",
    "race_encoder = OneHotEncoder(inputCol='raceIndex',outputCol='raceVec')\n",
    "agegroup_encoder = OneHotEncoder(inputCol='agegroupIndex',outputCol='agegroupVec')\n",
    "county_encoder = OneHotEncoder(inputCol='countyIndex',outputCol='countyVec')\n",
    "year_encoder = StringIndexer(inputCol='yearIndex',outputCol='yearVec')\n",
    "age_encoder = StringIndexer(inputCol='ageIndex',outputCol='ageVec')\n",
    "label_encoder = StringIndexer(inputCol='label',outputCol='label')\n",
    "\n",
    "\n",
    "# And finally, using vector assembler to turn all of the columns into one column (named features).\n",
    "assembler = VectorAssembler(inputCols=['genderVec','raceVec','agegroupVec','countyVec','yearVec','ageVec'], outputCol=\"features\")"
   ]
  },
  {
   "cell_type": "code",
   "execution_count": 56,
   "metadata": {},
   "outputs": [],
   "source": [
    "from pyspark.ml import Pipeline\n",
    "\n",
    "# Then creating a pipeline\n",
    "pipeline = Pipeline(stages=[gender_indexer, race_indexer, agegroup_indexer, county_indexer, year_indexer,age_indexer,\n",
    "                            heroin_indexer, gender_encoder, race_encoder, agegroup_encoder,county_encoder, year_encoder,\n",
    "                            age_encoder,assembler])\n",
    "\n",
    "# Applying pipeline into a DataFrame.\n",
    "pipeline_model = pipeline.fit(df)\n",
    "\n",
    "# Incorporate results into a new DataFrame.\n",
    "pipe_df = pipeline_model.transform(df)\n",
    "\n",
    "# Remove all variables other than features and label. \n",
    "pipe_df = pipe_df.select('label', 'features')"
   ]
  },
  {
   "cell_type": "code",
   "execution_count": 57,
   "metadata": {},
   "outputs": [
    {
     "data": {
      "text/plain": [
       "DataFrame[summary: string, label: string]"
      ]
     },
     "execution_count": 57,
     "metadata": {},
     "output_type": "execute_result"
    }
   ],
   "source": [
    "pipe_df.describe()"
   ]
  },
  {
   "cell_type": "code",
   "execution_count": 74,
   "metadata": {},
   "outputs": [
    {
     "name": "stdout",
     "output_type": "stream",
     "text": [
      "Training Dataset Count: 2425\n",
      "Test Dataset Count: 605\n"
     ]
    }
   ],
   "source": [
    "# Importing logistic Regression \n",
    "from pyspark.ml.classification import LogisticRegression\n",
    "\n",
    "#Selecting the split for train data and test data\n",
    "train_data, test_data = pipe_df.randomSplit([0.8,0.2])\n",
    "print(\"Training Dataset Count: \" + str(train_data.count()))\n",
    "print(\"Test Dataset Count: \" + str(test_data.count()))"
   ]
  },
  {
   "cell_type": "code",
   "execution_count": 75,
   "metadata": {},
   "outputs": [],
   "source": [
    "#Assigning a variable and calling the logistic regression\n",
    "lr = LogisticRegression(labelCol = 'label', featuresCol = 'features', maxIter=10)\n",
    "\n",
    "#fitting and training the lr model\n",
    "lrModel = lr.fit(train_data)"
   ]
  },
  {
   "cell_type": "code",
   "execution_count": 76,
   "metadata": {},
   "outputs": [
    {
     "data": {
      "text/plain": [
       "[Row(label=0.0, features=SparseVector(20, {0: 1.0, 1: 1.0, 6: 1.0, 10: 1.0}), rawPrediction=DenseVector([0.7182, -0.7182]), probability=DenseVector([0.6722, 0.3278]), prediction=0.0)]"
      ]
     },
     "execution_count": 76,
     "metadata": {},
     "output_type": "execute_result"
    }
   ],
   "source": [
    "#Creating a prediction and assigning the ir model test data\n",
    "predictions = lrModel.transform(test_data)\n",
    "\n",
    "\n",
    "#Displaying the 1 row of the predicted values\n",
    "predictions.take(1)"
   ]
  },
  {
   "cell_type": "code",
   "execution_count": 77,
   "metadata": {},
   "outputs": [
    {
     "name": "stdout",
     "output_type": "stream",
     "text": [
      "root\n",
      " |-- label: double (nullable = true)\n",
      " |-- features: vector (nullable = true)\n",
      " |-- rawPrediction: vector (nullable = true)\n",
      " |-- probability: vector (nullable = true)\n",
      " |-- prediction: double (nullable = true)\n",
      "\n"
     ]
    }
   ],
   "source": [
    "predictions.printSchema()"
   ]
  },
  {
   "cell_type": "code",
   "execution_count": 78,
   "metadata": {},
   "outputs": [
    {
     "data": {
      "text/plain": [
       "DataFrame[label: double, prediction: double, probability: vector]"
      ]
     },
     "metadata": {},
     "output_type": "display_data"
    }
   ],
   "source": [
    "selected = predictions.select(\"label\", \"prediction\", \"probability\")\n",
    "display(selected)"
   ]
  },
  {
   "cell_type": "code",
   "execution_count": 79,
   "metadata": {},
   "outputs": [],
   "source": [
    "from pyspark.ml.evaluation import MulticlassClassificationEvaluator"
   ]
  },
  {
   "cell_type": "code",
   "execution_count": 80,
   "metadata": {},
   "outputs": [
    {
     "name": "stdout",
     "output_type": "stream",
     "text": [
      "Test set accuracy = 0.6181818181818182\n"
     ]
    }
   ],
   "source": [
    "evaluator = MulticlassClassificationEvaluator(labelCol=\"label\", predictionCol=\"prediction\",metricName=\"accuracy\")\n",
    "accuracy = evaluator.evaluate(predictions)\n",
    "print(\"Test set accuracy = \" + str(accuracy))"
   ]
  },
  {
   "cell_type": "code",
   "execution_count": 81,
   "metadata": {},
   "outputs": [
    {
     "data": {
      "image/png": "[encoded data removed]",
      "text/plain": [
       "<Figure size 432x288 with 1 Axes>"
      ]
     },
     "metadata": {},
     "output_type": "display_data"
    }
   ],
   "source": [
    "import matplotlib.pyplot as plt\n",
    "import numpy as np\n",
    "\n",
    "# Visualising the coefficients. Sort from lowest to highest.\n",
    "beta = np.sort(lrModel.coefficients)\n",
    "\n",
    "# Plot the data.\n",
    "plt.plot(beta)\n",
    "\n",
    "# Add a label to the data.\n",
    "plt.ylabel('Beta Coefficients')\n",
    "\n",
    "# Show the graph. \n",
    "plt.show()"
   ]
  },
  {
   "cell_type": "code",
   "execution_count": 82,
   "metadata": {},
   "outputs": [
    {
     "data": {
      "image/png": "[encoded data removed]",
      "text/plain": [
       "<Figure size 432x288 with 1 Axes>"
      ]
     },
     "metadata": {},
     "output_type": "display_data"
    },
    {
     "name": "stdout",
     "output_type": "stream",
     "text": [
      "Area Under the Curve: 0.659803455872229\n"
     ]
    }
   ],
   "source": [
    "# Let's get a summary of the data.\n",
    "training_summary = lrModel.summary\n",
    "\n",
    "# Convert the DataFrame to a Pandas DataFrame.\n",
    "ROC = training_summary.roc.toPandas()\n",
    "\n",
    "# Plot the true positive and false positive rates.\n",
    "plt.plot(ROC['FPR'],ROC['TPR'])\n",
    "\n",
    "# Define the labels.\n",
    "plt.ylabel('True Positive Rate')\n",
    "plt.xlabel('False Positive Rate')\n",
    "plt.title('ROC Curve')\n",
    "plt.show()\n",
    "\n",
    "# Print the AUC statistic. \n",
    "print('Area Under the Curve: ' + str(training_summary.areaUnderROC))"
   ]
  },
  {
   "cell_type": "code",
   "execution_count": 83,
   "metadata": {},
   "outputs": [
    {
     "data": {
      "image/png": "[encoded data removed]",
      "text/plain": [
       "<Figure size 432x288 with 1 Axes>"
      ]
     },
     "metadata": {},
     "output_type": "display_data"
    }
   ],
   "source": [
    "# Convert DataFrame to Pandas DataFrame.\n",
    "pr = training_summary.pr.toPandas()\n",
    "\n",
    "# Plot model recall and precision.\n",
    "plt.plot(pr['recall'],pr['precision'])\n",
    "\n",
    "# Define the labels and show the graph. \n",
    "plt.ylabel('Precision')\n",
    "plt.xlabel('Recall')\n",
    "plt.show()"
   ]
  },
  {
   "cell_type": "code",
   "execution_count": 84,
   "metadata": {},
   "outputs": [],
   "source": [
    "#Importing NaiveBayes \n",
    "from pyspark.ml.classification import NaiveBayes\n",
    "\n",
    "#Importing MulticlassClassificationEvaluato\n",
    "from pyspark.ml.evaluation import MulticlassClassificationEvaluator"
   ]
  },
  {
   "cell_type": "code",
   "execution_count": 85,
   "metadata": {},
   "outputs": [],
   "source": [
    "# creating the trainer and set its parameters\n",
    "nb = NaiveBayes(smoothing=1.0, modelType=\"multinomial\")"
   ]
  },
  {
   "cell_type": "code",
   "execution_count": 86,
   "metadata": {},
   "outputs": [],
   "source": [
    "# training the model\n",
    "nbmodel = nb.fit(train_data)"
   ]
  },
  {
   "cell_type": "code",
   "execution_count": 87,
   "metadata": {
    "scrolled": true
   },
   "outputs": [
    {
     "data": {
      "text/plain": [
       "[Row(label=0.0, features=SparseVector(20, {0: 1.0, 1: 1.0, 6: 1.0, 10: 1.0}), rawPrediction=DenseVector([-15.6154, -16.2316]), probability=DenseVector([0.6494, 0.3506]), prediction=0.0)]"
      ]
     },
     "execution_count": 87,
     "metadata": {},
     "output_type": "execute_result"
    }
   ],
   "source": [
    "# selecting example rows to display.\n",
    "predictions = nbmodel.transform(test_data)\n",
    "\n",
    "predictions.take(1)\n",
    "#predictions.show()"
   ]
  },
  {
   "cell_type": "code",
   "execution_count": 88,
   "metadata": {},
   "outputs": [
    {
     "name": "stdout",
     "output_type": "stream",
     "text": [
      "Test set accuracy = 0.5933884297520661\n"
     ]
    }
   ],
   "source": [
    "# compute accuracy on the test set\n",
    "evaluator = MulticlassClassificationEvaluator(labelCol=\"label\", predictionCol=\"prediction\",metricName=\"accuracy\")\n",
    "accuracy = evaluator.evaluate(predictions)\n",
    "print(\"Test set accuracy = \" + str(accuracy))"
   ]
  },
  {
   "cell_type": "code",
   "execution_count": 73,
   "metadata": {},
   "outputs": [
    {
     "name": "stdout",
     "output_type": "stream",
     "text": [
      "Test Area Under ROC: 0.5204270186335394\n"
     ]
    }
   ],
   "source": [
    "#Evaluate the ROC\n",
    "evaluator = BinaryClassificationEvaluator()\n",
    "print(\"Test Area Under ROC: \" + str(evaluator.evaluate(predictions, {evaluator.metricName: \"areaUnderROC\"})))"
   ]
  },
  {
   "cell_type": "code",
   "execution_count": null,
   "metadata": {},
   "outputs": [],
   "source": []
  },
  {
   "cell_type": "code",
   "execution_count": null,
   "metadata": {},
   "outputs": [],
   "source": []
  }
 ],
 "metadata": {
  "kernelspec": {
   "display_name": "Python 3",
   "language": "python",
   "name": "python3"
  },
  "language_info": {
   "codemirror_mode": {
    "name": "ipython",
    "version": 3
   },
   "file_extension": ".py",
   "mimetype": "text/x-python",
   "name": "python",
   "nbconvert_exporter": "python",
   "pygments_lexer": "ipython3",
   "version": "3.5.2"
  }
 },
 "nbformat": 4,
 "nbformat_minor": 2
}
